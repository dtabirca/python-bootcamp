{
 "cells": [
  {
   "cell_type": "code",
   "execution_count": null,
   "metadata": {
    "scrolled": true
   },
   "outputs": [
    {
     "name": "stdout",
     "output_type": "stream",
     "text": [
      " 0 | X | 0\n",
      "\n",
      "-----------\n",
      "\n",
      " 0 | X | X\n",
      "\n",
      "-----------\n",
      "\n",
      " X | 0 | X\n",
      "\n",
      "Tied game.\n"
     ]
    }
   ],
   "source": [
    "# TicTacToe game\n",
    "from IPython.display import clear_output\n",
    "\n",
    "# 7 8 9\n",
    "# 4 5 6\n",
    "# 1 2 3\n",
    "board   = [[' ', ' ', ' '], [' ', ' ', ' '], [' ', ' ', ' ']]\n",
    "players = [['Player 1', 'X'], ['Player 2', '0']]\n",
    "\n",
    "def display_board():\n",
    "    global board\n",
    "    clear_output()\n",
    "    print(' ' + board[0][0] + ' | ' + board[0][1] + ' | ' + board[0][2] + '\\n')\n",
    "    print('-----------\\n')\n",
    "    print(' ' + board[1][0] + ' | ' + board[1][1] + ' | ' + board[1][2] + '\\n')\n",
    "    print('-----------\\n')\n",
    "    print(' ' + board[2][0] + ' | ' + board[2][1] + ' | ' + board[2][2] + '\\n')\n",
    "    \n",
    "def update_board(val, pos):\n",
    "    global board\n",
    "    if pos <= 3:\n",
    "        if (cell_is_empty(board[2][pos-1])):\n",
    "            board[2][pos-1] = val\n",
    "            return True\n",
    "    elif pos <= 6:\n",
    "        if (cell_is_empty(board[1][pos-4])):\n",
    "            board[1][pos-4] = val\n",
    "            return True\n",
    "    elif pos <= 9:\n",
    "        if (cell_is_empty(board[0][pos-7])):\n",
    "            board[0][pos-7] = val\n",
    "            return True\n",
    "    return False\n",
    "        \n",
    "def cell_is_empty(cell):\n",
    "    return cell == ' '\n",
    "        \n",
    "def check_board():\n",
    "    global board\n",
    "    if (board[0][0] != ' ' and (\n",
    "        board[0][0]==board[0][1]==board[0][2] or\n",
    "        board[0][0] == board[1][0]==board[2][0] or\n",
    "        board[0][0] == board[1][1] == board[2][2])):\n",
    "        return board[0][0]        \n",
    "    if (board[1][1] != ' ' and (\n",
    "        board[1][0] == board[1][1] == board[1][2] or\n",
    "        board[0][1] == board[1][1] == board[2][1] or\n",
    "        board[0][2] == board[1][1] == board[2][0])):\n",
    "        return board[1][1]\n",
    "    if (board[2][2] != ' ' and (\n",
    "        board[2][0] == board[2][1] == board[2][2] or\n",
    "        board[0][2] == board[1][2] == board[2][2])):\n",
    "        return board[2][2]\n",
    "    return False\n",
    "\n",
    "def player_choose():\n",
    "    global players\n",
    "    confirm = input(players[0][0] + ' is using ' + players[0][1] + '. Y/N?')\n",
    "    if confirm.upper() != 'Y':\n",
    "        players[0][1] = '0'\n",
    "        players[1][1] = 'X'\n",
    "        \n",
    "def play_game():\n",
    "    global players\n",
    "    moves = 0\n",
    "    while check_board() == False:\n",
    "        if moves == 9:\n",
    "            print('Tied game.')\n",
    "            break\n",
    "        moveto = 0\n",
    "        while moveto < 1 or moveto > 9:\n",
    "            moveto = int(input(players[moves%2][0] + ' move:'))\n",
    "        if update_board(players[moves%2][1], moveto):\n",
    "            display_board()\n",
    "            moves += 1\n",
    "    else:\n",
    "        print(players[(moves-1)%2][0] + ' won in ' + str(moves) + ' moves.')\n",
    "    \n",
    "    if input('Play again? Y/N').upper() != 'Y':\n",
    "        # exit()\n",
    "        pass\n",
    "    else:\n",
    "        new_game()\n",
    "\n",
    "def start_game():\n",
    "    display_board()        \n",
    "    player_choose()\n",
    "    play_game()    \n",
    "    \n",
    "def new_game():\n",
    "    global board\n",
    "    global players\n",
    "    board   = [[' ', ' ', ' '], [' ', ' ', ' '], [' ', ' ', ' ']]\n",
    "    players = [['Player 1', 'X'], ['Player 2', '0']]    \n",
    "    start_game()\n",
    "      \n",
    "start_game()"
   ]
  },
  {
   "cell_type": "markdown",
   "metadata": {},
   "source": [
    "###### "
   ]
  },
  {
   "cell_type": "code",
   "execution_count": null,
   "metadata": {},
   "outputs": [],
   "source": []
  },
  {
   "cell_type": "code",
   "execution_count": null,
   "metadata": {},
   "outputs": [],
   "source": []
  },
  {
   "cell_type": "code",
   "execution_count": null,
   "metadata": {},
   "outputs": [],
   "source": []
  }
 ],
 "metadata": {
  "kernelspec": {
   "display_name": "Python 3",
   "language": "python",
   "name": "python3"
  },
  "language_info": {
   "codemirror_mode": {
    "name": "ipython",
    "version": 3
   },
   "file_extension": ".py",
   "mimetype": "text/x-python",
   "name": "python",
   "nbconvert_exporter": "python",
   "pygments_lexer": "ipython3",
   "version": "3.7.4"
  }
 },
 "nbformat": 4,
 "nbformat_minor": 2
}
